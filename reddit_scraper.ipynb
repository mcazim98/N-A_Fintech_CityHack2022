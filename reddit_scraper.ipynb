{
 "cells": [
  {
   "cell_type": "code",
   "execution_count": 20,
   "metadata": {},
   "outputs": [],
   "source": [
    "import praw\n",
    "import requests\n",
    "import pandas as pd"
   ]
  },
  {
   "cell_type": "code",
   "execution_count": 21,
   "metadata": {},
   "outputs": [],
   "source": [
    "reddit = praw.Reddit(\n",
    "    client_id=\"qlosPf8oOYUqmeI88mQ0GA\",\n",
    "    client_secret=\"tPFqBh6gngtuKTeKTnXw5Y7sDC0jTw\",\n",
    "    password=\"305503#alvi\",\n",
    "    user_agent=\"senti_scraper\",\n",
    "    username=\"liav305\",\n",
    ")"
   ]
  },
  {
   "cell_type": "code",
   "execution_count": 22,
   "metadata": {},
   "outputs": [],
   "source": [
    "subreddits_stock = ['wallstreetbets','stocks','InvestingandTrading','pennystocks','robinhood']\n",
    "subreddits_crypto = ['bitcoin','CryptoCurrency','bitcoinbeginners','CryptoMarkets','icocrypto']\n",
    "\n"
   ]
  },
  {
   "cell_type": "code",
   "execution_count": 17,
   "metadata": {},
   "outputs": [],
   "source": [
    " stock = input(\"Input stock name\")\n",
    "\n",
    " coin = input(\"Input coin name\")"
   ]
  },
  {
   "cell_type": "code",
   "execution_count": 18,
   "metadata": {},
   "outputs": [
    {
     "name": "stdout",
     "output_type": "stream",
     "text": [
      "WALLSTREETBETS\n",
      "Tesla Calls. We ride till we expire worthless.\n",
      "Future of Tesla\n",
      "If Tesla $TSLA is down 5%, how are PUTS down ??\n",
      "One day Tesla drop greater than Fords entire market cap.\n",
      "Which one of you did this afterhours buy for Tesla? Can't stop laughing at the immediate loss experienced!\n",
      "potemkin villages - TESLA - thanks papa Elon!! ;))\n",
      "Tesla free fall initiated\n",
      "Sorry to break it to you $TSLA uber bulls, but producing the Tesla Bot will be impossible.\n",
      "Tesla back to base on daily trendline. Time to load up again\n",
      "Yolo’d 4 more calls on tesla… am I doing this right? 🥲\n",
      "STOCKS\n",
      "Unlike popular opinion, Tesla's valuation is far from unjustifiable - An analysis based on the numbers\n",
      "An actual Tesla valuation\n",
      "Tesla earnings are out – here are the numbers\n",
      "The future value of TSLA is not computable.\n",
      "Explain to me why Tesla is a bad investment\n",
      "Afraid? Take a look.\n",
      "ATTN: Tesla bears ....\n",
      "Here is a Market Recap for today Thursday, January 27, 2022. Another volatile day\n",
      "Why choose an ETF index tracker instead of a large cap low risk company?\n",
      "(1/27) Thursday's Pre-Market Stock Movers & News\n",
      "INVESTINGANDTRADING\n",
      "What do you think of this strategy? Need advice…\n",
      "Apple Supplier TSMC Says It Has Complied With US Request For Data Without Compromising Customer-Related Information\n",
      "Evening Briefing\n",
      "5 Things\n",
      "#TSLA. On Saturday repoted a record.\n",
      "Evening Briefing\n",
      "$70 of free stock\n",
      "5 Things\n",
      "Evening Briefing\n",
      "Evening Briefing\n",
      "PENNYSTOCKS\n",
      "SYAAF for anyone that's interested\n",
      "Tesla and Talon Metals Enter into Supply Agreement for Nickel (HUGE)\n",
      "My Penny Accounts for 2022\n",
      "$Prog- both shortsqueeze and fundamental play with catalyst news coming in days- (Wyckoff pattern in play again)\n",
      "NSAV Officially Launching NEW Exchange!\n",
      "$BKTPF/$CRUZ.cse - Cruz Battery Metals Corp. Announces Completion of Maiden Drill Program on Solar Lithium Project - 0.1753/0.23\n",
      "Vivopower, 75m market cap, hundreds of millions in distribution deals over the next 5 years.\n",
      "$ACTHF Aduro Completed Work on Its First Milestone and Submitted a Report for Third-Party Evaluation, a Critical Step Towards Commercialization of Their Innovative Chemical Conversion Technologies:\n",
      "$BKTPF/$CRUZ.cse | Cruz Battery Metals announce drilling has started on Solar Lithium Project | .223/0.28\n",
      "$NNDM Back Under $5\n",
      "ROBINHOOD\n",
      "WHAT RECOURSE DO YOU HAVE IF ROBINHOOD LIQUIDATES AND PICK A STOCK DUE TO MARGIN (AND DOESNT CONSULT)? CAN THEY DO THIS?\n",
      "Which companies are focused on long term growth nowadays other than Apple, Tesla, Amazon, etc…\n",
      "Do I have to pay taxes on the profits for stocks I sold but reinvest without the money getting into my bank?\n",
      "Question about buying one stock, but selling another in the same day\n",
      "General question for a beginner\n",
      "Robin Hood showing big losses this morning when only btc should be trading right now (8:15 am est) and it’s losses are much smaller\n",
      "A different kind of post - Classic narrative\n",
      "taking a loss on tesla, what are the implications? tax?\n",
      "Peloton (PTON) - A Hardware or Software Play (Full DD)\n",
      "Small Number of Shares, is it worth it?\n"
     ]
    }
   ],
   "source": [
    "#for making dataframe of stocks\n",
    "\n",
    "stock_posts = []\n",
    "\n",
    "\n",
    "for sub in subreddits_stock:\n",
    "    print(sub.upper())\n",
    "    subrdts = reddit.subreddit(sub).search(stock)\n",
    "    for post in list(subrdts)[0:10]:\n",
    "        print(post.title)\n",
    "        sentimentScore = 0.98\n",
    "        engagementRate = 0.66\n",
    "        stock_posts.append([post.title, post.score, post.id, post.subreddit, post.url, post.num_comments,sentimentScore,engagementRate])\n",
    "        \n",
    "stock_posts = pd.DataFrame(stock_posts,columns=['title', 'score', 'id', 'subreddit', 'url', 'num_comments','sentimentScore','engagementRate'])\n",
    "stock_posts.to_csv('stock_data.csv') \n",
    "\n",
    "\n",
    "    "
   ]
  },
  {
   "cell_type": "code",
   "execution_count": 19,
   "metadata": {},
   "outputs": [
    {
     "name": "stdout",
     "output_type": "stream",
     "text": [
      "BITCOIN\n",
      "I'm sick and tired of 'Etherium Classic has moved down x.xx%' notifications.\n",
      "Cryptocurrency notifications\n",
      "RH Strategy of a Not-As-Noobish Noob, For Other Noobs\n",
      "CRYPTOCURRENCY\n",
      "I'm sick and tired of 'Etherium Classic has moved down x.xx%' notifications.\n",
      "Cryptocurrency notifications\n",
      "RH Strategy of a Not-As-Noobish Noob, For Other Noobs\n",
      "BITCOINBEGINNERS\n",
      "I'm sick and tired of 'Etherium Classic has moved down x.xx%' notifications.\n",
      "Cryptocurrency notifications\n",
      "RH Strategy of a Not-As-Noobish Noob, For Other Noobs\n",
      "CRYPTOMARKETS\n",
      "I'm sick and tired of 'Etherium Classic has moved down x.xx%' notifications.\n",
      "Cryptocurrency notifications\n",
      "RH Strategy of a Not-As-Noobish Noob, For Other Noobs\n",
      "ICOCRYPTO\n",
      "I'm sick and tired of 'Etherium Classic has moved down x.xx%' notifications.\n",
      "Cryptocurrency notifications\n",
      "RH Strategy of a Not-As-Noobish Noob, For Other Noobs\n"
     ]
    }
   ],
   "source": [
    "\n",
    "# for making dataframe \n",
    "\n",
    "crypto_posts = []\n",
    "\n",
    "for subs in subreddits_crypto:\n",
    "    print(subs.upper())\n",
    "    subrdt = reddit.subreddit(sub).search(coin)\n",
    "    for post_1 in list(subrdt)[0:10]:\n",
    "        print(post_1.title)\n",
    "        sentimentScore = 0.98\n",
    "        engagementRate = 0.66\n",
    "        crypto_posts.append([post_1.title, post_1.score, post_1.id, post_1.subreddit, post_1.url, post_1.num_comments,sentimentScore,engagementRate])\n",
    "        \n",
    "crypto_posts = pd.DataFrame(crypto_posts,columns=['title', 'score', 'id', 'subreddit', 'url', 'num_comments','sentimentScore','engagementRate'])\n",
    "crypto_posts.to_csv('crypto_data.csv') "
   ]
  },
  {
   "cell_type": "code",
   "execution_count": 21,
   "metadata": {},
   "outputs": [
    {
     "name": "stdout",
     "output_type": "stream",
     "text": [
      "Impact of Fed Rate Hikes on Gold and Stocks\n",
      "DD / Gain - $0.29 calls turned into $20+ and this is just getting started. Bakkt has all the ingredients necessary - politicians, majority owned by Intercontinental Exchange, Mastercard deal, Fiserv+Google partnerships and 100% share utilization with 500%+ CTB.\n",
      "Coinbase CEO Brian Armstrong said \"We'll be investing 10% of all profit going forward in blockchain projects...\n",
      "$RKT Update post Q2 earnings also how to hedge against higher rates if you invest in $RKT to guard against FUD for long term bulls. (Positions at end)\n",
      "I analyzed last 15 years of news articles to see how many times Michael Burry predicted a crash and how many times he turned out to be right! Here are the results.\n",
      "RE: On Crypto\n",
      "$COIN: $150B ($570/share) Price Target\n",
      "Silver Shiny Me Likey (Read disclaimer b4 downvote GME gang)\n",
      "What is the fastest way for me to get in on GME?\n",
      "Barbell Investing\n"
     ]
    }
   ],
   "source": [
    "\"\"\"for stock_subrstocks_posts = reddit.subreddit('wallstreetbets').search('bitcoin')\n",
    "\n",
    "for post in list(stocks_posts)[0:10]:\n",
    "    print(post.title)\"\"\""
   ]
  },
  {
   "cell_type": "code",
   "execution_count": null,
   "metadata": {},
   "outputs": [],
   "source": []
  }
 ],
 "metadata": {
  "interpreter": {
   "hash": "1baa965d5efe3ac65b79dfc60c0d706280b1da80fedb7760faf2759126c4f253"
  },
  "kernelspec": {
   "display_name": "Python 3.8.6 64-bit",
   "language": "python",
   "name": "python3"
  },
  "language_info": {
   "codemirror_mode": {
    "name": "ipython",
    "version": 3
   },
   "file_extension": ".py",
   "mimetype": "text/x-python",
   "name": "python",
   "nbconvert_exporter": "python",
   "pygments_lexer": "ipython3",
   "version": "3.8.6"
  },
  "orig_nbformat": 4
 },
 "nbformat": 4,
 "nbformat_minor": 2
}
